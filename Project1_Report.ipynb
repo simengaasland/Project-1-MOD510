{
 "cells": [
  {
   "cell_type": "markdown",
   "id": "ead35e18-13d3-47c6-ba37-e6b162cba3bb",
   "metadata": {},
   "source": [
    "# MOD510: Project 1\n",
    "\n",
    "**Deadline: 15. September 2024 (23:59)**\n",
    "\n",
    "\n",
    "**Group members**\n",
    "\n",
    "* Member 1\n",
    "\n",
    "* Member 2\n",
    "\n",
    "\n",
    "\n",
    "# Abstract\n",
    "Write abstract here \n",
    "\n",
    "\n",
    "# Introduction\n",
    "Write intro here \n"
   ]
  },
  {
   "cell_type": "markdown",
   "id": "f9a4a494-1b2a-4db7-a202-db599cd74744",
   "metadata": {},
   "source": [
    "# Exercise 1: Finite-precision arithmetic"
   ]
  },
  {
   "cell_type": "markdown",
   "id": "84cdb789-b6c6-4b9e-9e42-dacb469b85ae",
   "metadata": {},
   "source": [
    "## Part 1"
   ]
  },
  {
   "cell_type": "code",
   "execution_count": 1,
   "id": "8a0c45a4-00f2-4089-88f5-0c4f8fcd27b2",
   "metadata": {},
   "outputs": [
    {
     "data": {
      "text/plain": [
       "sys.float_info(max=1.7976931348623157e+308, max_exp=1024, max_10_exp=308, min=2.2250738585072014e-308, min_exp=-1021, min_10_exp=-307, dig=15, mant_dig=53, epsilon=2.220446049250313e-16, radix=2, rounds=1)"
      ]
     },
     "execution_count": 1,
     "metadata": {},
     "output_type": "execute_result"
    }
   ],
   "source": [
    "import sys\n",
    "sys.float_info"
   ]
  },
  {
   "cell_type": "markdown",
   "id": "7f980da8-1bb0-4c3f-9389-d6a2eea4bf95",
   "metadata": {},
   "source": [
    "A float in python is 64 bit double presistion floating point number. Using the sys.float_info we can among other things see that maximum and minimum value that a float can represent in Python. We can also se the machine presision $\\epsilon_M$. This is the smallest number we can add to one and still get a value larger than one (shown in the code below). "
   ]
  },
  {
   "cell_type": "code",
   "execution_count": 2,
   "id": "2a97f1b6-eb3c-4631-9e91-131388db22b2",
   "metadata": {},
   "outputs": [
    {
     "name": "stdout",
     "output_type": "stream",
     "text": [
      "True\n"
     ]
    }
   ],
   "source": [
    "eps = sys.float_info.epsilon\n",
    "print(1 + eps > 1) #Should return True"
   ]
  },
  {
   "cell_type": "code",
   "execution_count": null,
   "id": "9e4bc021-06ac-4f9f-86f1-9f3a58d9d5a3",
   "metadata": {},
   "outputs": [],
   "source": []
  },
  {
   "cell_type": "markdown",
   "id": "6ae54edb-7291-4a44-afa9-bcd8c2f767ff",
   "metadata": {},
   "source": [
    "## Part 2"
   ]
  },
  {
   "cell_type": "markdown",
   "id": "ed33c7fc-1782-4f9f-8011-0f3d7dae5888",
   "metadata": {},
   "source": [
    "\n",
    "\n",
    "$$\\pm q2^{E-e} \\tag{1}$$"
   ]
  },
  {
   "cell_type": "code",
   "execution_count": null,
   "id": "747fc5d1-26c6-4bff-8bd4-bb2138d565ff",
   "metadata": {},
   "outputs": [],
   "source": []
  },
  {
   "cell_type": "markdown",
   "id": "7c669eab-4637-47fa-9886-78030f31f78d",
   "metadata": {},
   "source": [
    "## Part 3"
   ]
  },
  {
   "cell_type": "code",
   "execution_count": null,
   "id": "d4bf8e5c-b7db-4350-84e7-05b0c737eea5",
   "metadata": {},
   "outputs": [],
   "source": []
  },
  {
   "cell_type": "markdown",
   "id": "0a1e2a09-6871-44c3-b3c9-a9662efde7c8",
   "metadata": {},
   "source": [
    "## Part 4"
   ]
  },
  {
   "cell_type": "code",
   "execution_count": null,
   "id": "12e45478-bb62-46a6-81fd-a16df8ee8c5a",
   "metadata": {},
   "outputs": [],
   "source": []
  },
  {
   "cell_type": "markdown",
   "id": "174af620-00dd-4788-8a11-1caf605eca25",
   "metadata": {},
   "source": [
    "# Exercise 2: Get up to speed with NumPy"
   ]
  },
  {
   "cell_type": "markdown",
   "id": "fb1bc689-f67c-43eb-ba22-c0563f550197",
   "metadata": {},
   "source": [
    "## Part 1"
   ]
  },
  {
   "cell_type": "markdown",
   "id": "45bb5f5d-4534-49a8-a29d-051528b5c151",
   "metadata": {},
   "source": [
    "To create a list that has the same elements as the numpy array, I used a for loop. My first thought was to set start value in the range function as 0, stop value as 1 and step value as 0.1, but since the range function only allows integers I had to finesse my way around this. How i have solved this you can see in the code below. Also worth noticing is that inside the append function i have written (10 - 1) in the denominator. According to the np.linspace() documentation (https://numpy.org/devdocs/reference/generated/numpy.linspace.html) the endpoint is by default included, so in order for the elements in my list to match the array I had to write (10 - 1) in the denominator."
   ]
  },
  {
   "cell_type": "code",
   "execution_count": 3,
   "id": "789186ac-9526-4aa6-8a2a-d1beb20e7a5d",
   "metadata": {},
   "outputs": [],
   "source": [
    "import numpy as np"
   ]
  },
  {
   "cell_type": "code",
   "execution_count": 4,
   "id": "aa7f7b18-f3ac-4d89-be01-017f46f149d0",
   "metadata": {},
   "outputs": [],
   "source": [
    "x = []\n",
    "for i in range(0,10): \n",
    "    x.append(i/(10-1))"
   ]
  },
  {
   "cell_type": "markdown",
   "id": "3ad00a1d-55f2-43f5-bc8b-40950d038886",
   "metadata": {},
   "source": [
    "When we put to list into the np.exp() function it seems to convert it to an array and gives the same output as when x was an array  "
   ]
  },
  {
   "cell_type": "code",
   "execution_count": 5,
   "id": "310efb2f-81d0-42d5-a44e-50f7d239c152",
   "metadata": {},
   "outputs": [
    {
     "name": "stdout",
     "output_type": "stream",
     "text": [
      "exp(x) = [1.         1.11751907 1.24884887 1.39561243 1.5596235  1.742909\n",
      " 1.94773404 2.17662993 2.43242545 2.71828183]\n"
     ]
    }
   ],
   "source": [
    "#Works fine\n",
    "print('exp(x) =', np.exp(x))  # Apply f(t)=exp(t) to each element in the array x."
   ]
  },
  {
   "cell_type": "markdown",
   "id": "9acd3b0e-fe3e-426c-a402-6ef3f27b9a45",
   "metadata": {},
   "source": [
    "When we try to compute -x on the other hand we get an error. When we in class preformed multiplications on list like for example $2 \\cdot [1, 2, 3]$ we get $[1, 2, 3, 1, 2, 3]$. It repeates to list 2 times. Writing $-x$ is the same as saying $(-1) \\cdot x$. We can not repeat a list negative one times. This is why I think we get an error."
   ]
  },
  {
   "cell_type": "code",
   "execution_count": 6,
   "id": "a0200a6a-1081-427c-9808-d77ef8eb89ef",
   "metadata": {},
   "outputs": [
    {
     "name": "stdout",
     "output_type": "stream",
     "text": [
      "Line has failed with error: bad operand type for unary -: 'list'\n"
     ]
    }
   ],
   "source": [
    "#Gives an error\n",
    "try:\n",
    "    print('exp(-x) =',np.exp(-x))\n",
    "except Exception as e:\n",
    "  print(f'Line has failed with error: {e}')"
   ]
  },
  {
   "cell_type": "markdown",
   "id": "0bd4f6d2-036a-49ee-a0fb-b5042616ae2d",
   "metadata": {},
   "source": [
    "Generally if i had to evaluate a function on all elements of a native Python list I would do this in a for loop like this: "
   ]
  },
  {
   "cell_type": "code",
   "execution_count": 7,
   "id": "c5599dc7-301e-465a-851c-d99e3968f8de",
   "metadata": {},
   "outputs": [
    {
     "name": "stdout",
     "output_type": "stream",
     "text": [
      "[1.0, 1.1175190687418637, 1.2488488690016821, 1.3956124250860895, 1.5596234976067807, 1.7429089986334578, 1.9477340410546757, 2.1766299317162483, 2.4324254542872077, 2.718281828459045]\n"
     ]
    }
   ],
   "source": [
    "import math \n",
    "\n",
    "new_list = []\n",
    "\n",
    "for i in range(len(x)): \n",
    "    calc_val = math.exp(x[i])\n",
    "    new_list.append(calc_val)\n",
    "\n",
    "print(new_list)"
   ]
  },
  {
   "cell_type": "markdown",
   "id": "e42e8f4c-f7cd-424d-805e-6adb75ef7bea",
   "metadata": {},
   "source": [
    "## Part 2"
   ]
  },
  {
   "cell_type": "markdown",
   "id": "9d40e343-4a38-4d80-a030-6dbb5659b0ca",
   "metadata": {},
   "source": [
    "np.zeros() returns an array containing zeros. The shape of the array is determend by the first input. In the example the input is just 20. The function will then return a (1,20) array. By default the data type of the array is a float. "
   ]
  },
  {
   "cell_type": "code",
   "execution_count": 8,
   "id": "b225538f-285a-4a82-9ce3-939de3d824cc",
   "metadata": {},
   "outputs": [
    {
     "data": {
      "text/plain": [
       "array([0., 0., 0., 0., 0., 0., 0., 0., 0., 0., 0., 0., 0., 0., 0., 0., 0.,\n",
       "       0., 0., 0.])"
      ]
     },
     "execution_count": 8,
     "metadata": {},
     "output_type": "execute_result"
    }
   ],
   "source": [
    "np.zeros(20)\n",
    "\n",
    "#Example of other uses\n",
    "#np.zeros((2,3), dtype = 'int') #returns a (2,3) array with int datatype"
   ]
  },
  {
   "cell_type": "markdown",
   "id": "233ffcb7-3fc6-4775-9e8b-21ce164f2577",
   "metadata": {},
   "source": [
    "Following code is my way to recreate np.zeros() with vanilla python. For simplicity the following code will return a list of zeros with a given length and datatype is float."
   ]
  },
  {
   "cell_type": "code",
   "execution_count": 9,
   "id": "ca185683-1350-4079-ab28-1886611c0080",
   "metadata": {},
   "outputs": [
    {
     "name": "stdout",
     "output_type": "stream",
     "text": [
      "[0.0, 0.0, 0.0, 0.0, 0.0, 0.0, 0.0, 0.0, 0.0, 0.0, 0.0, 0.0, 0.0, 0.0, 0.0, 0.0, 0.0, 0.0, 0.0, 0.0]\n"
     ]
    }
   ],
   "source": [
    "length = 20 \n",
    "zeros_list = [] \n",
    "\n",
    "for i in range(length): \n",
    "    zeros_list.append(0.)\n",
    "\n",
    "print(zeros_list)\n"
   ]
  },
  {
   "cell_type": "markdown",
   "id": "f2ca7807-7c41-45e0-9d6d-12fb6f7ae289",
   "metadata": {},
   "source": [
    "np.ones() returns an array containing ones. Like the zeros function the shape of the array is determend by the first input. In the example the input is just 20. The function will then return a (1,20) array. By default the data type of the array is a float. "
   ]
  },
  {
   "cell_type": "code",
   "execution_count": 10,
   "id": "20c2c0ec-edba-4bb1-8350-0936338ba5a2",
   "metadata": {},
   "outputs": [
    {
     "data": {
      "text/plain": [
       "array([1., 1., 1., 1., 1., 1., 1., 1., 1., 1., 1., 1., 1., 1., 1., 1., 1.,\n",
       "       1., 1., 1.])"
      ]
     },
     "execution_count": 10,
     "metadata": {},
     "output_type": "execute_result"
    }
   ],
   "source": [
    "np.ones(20)\n",
    "\n",
    "#Example of other uses\n",
    "#np.zeros((3,4), dtype = 'int') #returns a (3,4) array with int datatype"
   ]
  },
  {
   "cell_type": "markdown",
   "id": "a474b5c1-a858-4794-a0f7-1775082d4a82",
   "metadata": {},
   "source": [
    "To recreate np.ones() with vanilla python I only need to change the input in the append function. Also her for simplicity the following code will return a list of ones with a given length and datatype is float."
   ]
  },
  {
   "cell_type": "code",
   "execution_count": 11,
   "id": "12977cfa-cfc5-40fb-bb97-d3fa9b8587a8",
   "metadata": {},
   "outputs": [
    {
     "name": "stdout",
     "output_type": "stream",
     "text": [
      "[1.0, 1.0, 1.0, 1.0, 1.0, 1.0, 1.0, 1.0, 1.0, 1.0, 1.0, 1.0, 1.0, 1.0, 1.0, 1.0, 1.0, 1.0, 1.0, 1.0]\n"
     ]
    }
   ],
   "source": [
    "length = 20 \n",
    "ones_list = [] \n",
    "\n",
    "for i in range(length): \n",
    "    ones_list.append(1.)\n",
    "\n",
    "print(ones_list)\n"
   ]
  },
  {
   "cell_type": "markdown",
   "id": "eb024989-2d73-42da-83e0-2813e2e1b8b1",
   "metadata": {},
   "source": [
    "The np.linspace() functions returns an array with evenly spaced numbers on a given interval. In the example below the starting value is 0 the end value is 10 and the number of samples is 11. "
   ]
  },
  {
   "cell_type": "code",
   "execution_count": 12,
   "id": "6faadcd1-c377-48df-89f9-2ec0f4dabefa",
   "metadata": {},
   "outputs": [
    {
     "data": {
      "text/plain": [
       "array([ 0.,  1.,  2.,  3.,  4.,  5.,  6.,  7.,  8.,  9., 10.])"
      ]
     },
     "execution_count": 12,
     "metadata": {},
     "output_type": "execute_result"
    }
   ],
   "source": [
    "np.linspace(0, 10, 11)"
   ]
  },
  {
   "cell_type": "markdown",
   "id": "a2784cea-a21a-465e-b37a-23175418f0ab",
   "metadata": {},
   "source": [
    "To recreate this with vanilla Python I am using a for loop. First i define a start value and stop value, the value num is the number of samples we want. Next i create an empty list and define the first value to add to the list, which has to be the start value. Furthermore, i calculate the ingrement. The (num-1) in the denominator is because the endpoint is included (as previously explained in exercise 2 part 1). Lastly a for loop adds the numbers to a list."
   ]
  },
  {
   "cell_type": "code",
   "execution_count": 13,
   "id": "a97120ec-2199-4486-a1da-833b41dfe788",
   "metadata": {},
   "outputs": [
    {
     "name": "stdout",
     "output_type": "stream",
     "text": [
      "[0, 1.0, 2.0, 3.0, 4.0, 5.0, 6.0, 7.0, 8.0, 9.0, 10.0]\n"
     ]
    }
   ],
   "source": [
    "start = 0\n",
    "stop = 10\n",
    "num = 11\n",
    "\n",
    "linspace_list = [] \n",
    "num_to_add = start\n",
    "ingrement = (start + stop) / (num - 1)\n",
    "\n",
    "for i in range(start,num): \n",
    "    linspace_list.append(num_to_add)\n",
    "    num_to_add += ingrement\n",
    "\n",
    "print(linspace_list)"
   ]
  },
  {
   "cell_type": "markdown",
   "id": "ac6f1632-99e2-40ad-8bd8-c2440357f3e1",
   "metadata": {},
   "source": [
    "In the following code the endpoint is not included (endpoint = False)."
   ]
  },
  {
   "cell_type": "code",
   "execution_count": 14,
   "id": "6867ee25-d287-434b-8bd4-e3b746c970d6",
   "metadata": {},
   "outputs": [
    {
     "data": {
      "text/plain": [
       "array([0.        , 0.90909091, 1.81818182, 2.72727273, 3.63636364,\n",
       "       4.54545455, 5.45454545, 6.36363636, 7.27272727, 8.18181818,\n",
       "       9.09090909])"
      ]
     },
     "execution_count": 14,
     "metadata": {},
     "output_type": "execute_result"
    }
   ],
   "source": [
    "np.linspace(0, 10, 11, endpoint=False)"
   ]
  },
  {
   "cell_type": "markdown",
   "id": "e48415f0-a2b6-4686-91da-9e09618cef67",
   "metadata": {},
   "source": [
    "To recreate this with vanilla Python we just have to make a small adjustment to our previous code. That adjust is that we remove the -1 for (num-1) as follows. "
   ]
  },
  {
   "cell_type": "code",
   "execution_count": 15,
   "id": "c46d49e8-27a3-44ea-ad2a-1784532a4996",
   "metadata": {},
   "outputs": [
    {
     "name": "stdout",
     "output_type": "stream",
     "text": [
      "[0, 0.9090909090909091, 1.8181818181818181, 2.727272727272727, 3.6363636363636362, 4.545454545454545, 5.454545454545454, 6.363636363636363, 7.2727272727272725, 8.181818181818182, 9.09090909090909]\n"
     ]
    }
   ],
   "source": [
    "start = 0\n",
    "stop = 10\n",
    "num = 11\n",
    "\n",
    "linspace_list = [] \n",
    "num_to_add = start\n",
    "ingrement = (start + stop) / num #removed the -1\n",
    "\n",
    "for i in range(start,num): \n",
    "    linspace_list.append(num_to_add)\n",
    "    num_to_add += ingrement\n",
    "\n",
    "print(linspace_list)"
   ]
  },
  {
   "cell_type": "markdown",
   "id": "415379bb-a667-4d1c-b907-757943a185bd",
   "metadata": {},
   "source": [
    "The np.arrange() function is very simular to the np.linspace() function. Both return an evenly spaced array given a start, stop and step value. The np.arrange on the otherhand does not seem to have any endpoint handling. When only writing np.arrage(5) the function will return an open intervall $\\left[0,\\text{stop}\\right)$ mean an array like this $[0,1,2,3,4]$. By adding $+1$ the values in the array shifts one to the right returning $[1,2,3,4,5]$. By again multipling this list by $2$ every element in the array get multiplied by to giving us $[2,4,5,8,10]$."
   ]
  },
  {
   "cell_type": "code",
   "execution_count": 16,
   "id": "141547db-4c6c-4c28-9414-18246bf7cc52",
   "metadata": {},
   "outputs": [
    {
     "data": {
      "text/plain": [
       "array([ 2,  4,  6,  8, 10])"
      ]
     },
     "execution_count": 16,
     "metadata": {},
     "output_type": "execute_result"
    }
   ],
   "source": [
    "vector = np.arange(5) + 1\n",
    "2*vector"
   ]
  },
  {
   "cell_type": "markdown",
   "id": "3319a48a-c3a5-4865-9a21-406b5f168aee",
   "metadata": {},
   "source": [
    "I recreate this in vanilla Python using a for loop. The loop will run 5 times and since the initial value of $i = 0$ the end point will not be included. The math operations adding by one and multiplying by two i have preformed in the append() function so that it preforms these opration on every element just like intended. "
   ]
  },
  {
   "cell_type": "code",
   "execution_count": 17,
   "id": "4c8940a5-e606-43b3-ac01-9e7d684ebc1c",
   "metadata": {},
   "outputs": [
    {
     "name": "stdout",
     "output_type": "stream",
     "text": [
      "[2, 4, 6, 8, 10]\n"
     ]
    }
   ],
   "source": [
    "arange_list = []\n",
    "stop = 5\n",
    "\n",
    "for i in range(0,stop):\n",
    "    arange_list.append(2*i + 2) #Adding the + 1 and muliply ever element with 2. Could have written 2*(i + 1)\n",
    "\n",
    "print(arange_list)"
   ]
  },
  {
   "cell_type": "markdown",
   "id": "0c22e9ce-372e-4f20-8c51-d93738660357",
   "metadata": {},
   "source": [
    "## Part 3"
   ]
  },
  {
   "cell_type": "code",
   "execution_count": 18,
   "id": "73b73c32-46b8-4d92-b15b-75f7b6dd0e23",
   "metadata": {},
   "outputs": [
    {
     "name": "stdout",
     "output_type": "stream",
     "text": [
      "There are 7 non-zero numbers in the array.\n"
     ]
    }
   ],
   "source": [
    "array_of_numbers = np.array([4, 8, 15, 16, 23, 42,0,5])\n",
    "nnz = np.count_nonzero(array_of_numbers)\n",
    "print(f'There are {nnz} non-zero numbers in the array.')\n",
    "is_even = (array_of_numbers % 2 == 0)\n",
    "is_greater_than_17 = (array_of_numbers > 17)\n",
    "is_even_and_greater_than_17 = is_even & is_greater_than_17"
   ]
  },
  {
   "cell_type": "markdown",
   "id": "ce28a7fb-a4c4-4b48-abd0-e800242cc462",
   "metadata": {},
   "source": [
    "The code above work fine, but this following line of code does not run."
   ]
  },
  {
   "cell_type": "code",
   "execution_count": 19,
   "id": "f6f6f9d6-931d-4169-82e4-1a3c04baf1ad",
   "metadata": {},
   "outputs": [
    {
     "name": "stdout",
     "output_type": "stream",
     "text": [
      "Line has failed with error: The truth value of an array with more than one element is ambiguous. Use a.any() or a.all()\n"
     ]
    }
   ],
   "source": [
    "try:\n",
    "    is_even_and_greater_than_17 = is_even and is_greater_than_17\n",
    "except Exception as e:\n",
    "  print(f'Line has failed with error: {e}')"
   ]
  },
  {
   "cell_type": "markdown",
   "id": "9b69cda1-18dc-422a-9cc4-fedc14d2e0ff",
   "metadata": {},
   "source": [
    "Both is_even and is_greater_than_17 are arrays. The \"and\" operator according to (https://www.geeksforgeeks.org/python/difference-between-and-and-in-python/) expets a boolean value on both sides, here there is an array on both sides. Therefore we have to use \"&\" instead which is the bitwise operator. Below is a working code that gives the expeted value that only the number $42$ is both even and greater than $17$. Since it is specified that we have to use np.logical_and(), but according to the numpy documentation (https://numpy.org/doc/stable/reference/generated/numpy.logical_and.html) both work the same."
   ]
  },
  {
   "cell_type": "code",
   "execution_count": 20,
   "id": "4000caf6-2380-41f1-bd80-a0f8601ce3dc",
   "metadata": {},
   "outputs": [
    {
     "name": "stdout",
     "output_type": "stream",
     "text": [
      "[False False False False False  True False False]\n"
     ]
    }
   ],
   "source": [
    "#is_even_and_greater_than_17 = is_even & is_greater_than_17\n",
    "is_even_and_greater_than_17 = np.logical_and(is_even, is_greater_than_17)\n",
    "print(is_even_and_greater_than_17)"
   ]
  },
  {
   "cell_type": "markdown",
   "id": "407b162c-984c-4cac-9bfc-5e3c2bf48a98",
   "metadata": {},
   "source": [
    "The following code does not work."
   ]
  },
  {
   "cell_type": "code",
   "execution_count": 21,
   "id": "8254e2e4-38ef-45af-9a8a-db7a0fd44645",
   "metadata": {},
   "outputs": [
    {
     "name": "stdout",
     "output_type": "stream",
     "text": [
      "Line has failed with error: The truth value of an array with more than one element is ambiguous. Use a.any() or a.all()\n"
     ]
    }
   ],
   "source": [
    "try:\n",
    "    print(array_of_numbers % 2 == 0 & array_of_numbers > 17)\n",
    "except Exception as e:\n",
    "  print(f'Line has failed with error: {e}')"
   ]
  },
  {
   "cell_type": "markdown",
   "id": "848da9c7-3c72-41e9-bd47-34bb55c32d4b",
   "metadata": {},
   "source": [
    "It may seem that Python does not read the line inside of print as intended. By adding paranthese we make sure Python reads it as intended. This seems to work, and gives us the same result."
   ]
  },
  {
   "cell_type": "code",
   "execution_count": 22,
   "id": "ab27058f-9297-4ef7-a74c-0971c44373f9",
   "metadata": {},
   "outputs": [
    {
     "name": "stdout",
     "output_type": "stream",
     "text": [
      "[False False False False False  True False False]\n"
     ]
    }
   ],
   "source": [
    "print((array_of_numbers % 2 == 0) & (array_of_numbers > 17))"
   ]
  },
  {
   "cell_type": "markdown",
   "id": "c15d8ecf-f2c8-4503-819a-8badfae3387f",
   "metadata": {},
   "source": [
    "## Part 4"
   ]
  },
  {
   "cell_type": "markdown",
   "id": "09eadeb3-e6ae-496b-837b-30a12d1b64ff",
   "metadata": {},
   "source": [
    "The numpy.where() function takes in a condtion (in our case: array_of_numbers > 17) and returns an array with elements location that follows the set condtion. For the array_of_numbers the numbers that are greater than $17$ are $23$ and $42$ which are element number $4$ and $5$ (the first element is $0$). The function returns a tuple so the $[0]$ is added to get the first element in the tuple, since the second element is just blank. "
   ]
  },
  {
   "cell_type": "code",
   "execution_count": 23,
   "id": "cdf96692-e874-4601-bb4a-3e15609619cb",
   "metadata": {},
   "outputs": [
    {
     "data": {
      "text/plain": [
       "array([4, 5], dtype=int64)"
      ]
     },
     "execution_count": 23,
     "metadata": {},
     "output_type": "execute_result"
    }
   ],
   "source": [
    "np.where(array_of_numbers > 17)[0]"
   ]
  },
  {
   "cell_type": "markdown",
   "id": "6fb13946-0e75-466b-bde4-6feb5521f255",
   "metadata": {},
   "source": [
    "You can also spesify what you want reurned when the condition is True or False. In the following line of code you get a $0$ if the element is not greater than $17$ and $1$ if the element is greater then $17$."
   ]
  },
  {
   "cell_type": "code",
   "execution_count": 24,
   "id": "13eb228c-e7e9-4f76-9f7c-0be4964e97c0",
   "metadata": {},
   "outputs": [
    {
     "data": {
      "text/plain": [
       "array([0, 0, 0, 0, 1, 1, 0, 0])"
      ]
     },
     "execution_count": 24,
     "metadata": {},
     "output_type": "execute_result"
    }
   ],
   "source": [
    "np.where(array_of_numbers > 17, 1, 0)"
   ]
  },
  {
   "cell_type": "markdown",
   "id": "dcd58d54-a34d-494a-a77f-ba751d95c0fa",
   "metadata": {},
   "source": [
    "# Exercise 3, Part I: Finite Differences (FD) with Functions"
   ]
  },
  {
   "cell_type": "markdown",
   "id": "c38acf83-8c9d-49c7-9480-5697fd775590",
   "metadata": {},
   "source": [
    "Intro written here"
   ]
  },
  {
   "cell_type": "markdown",
   "id": "0bf72478-5929-4bf8-88be-6fcef7f9ea92",
   "metadata": {},
   "source": [
    "## Part 1"
   ]
  },
  {
   "cell_type": "code",
   "execution_count": 25,
   "id": "ceae26b3-2f18-4a25-ad0f-19500576cb08",
   "metadata": {},
   "outputs": [],
   "source": [
    "def f(x, a=0.1, b=10):\n",
    "    return np.sin(b*x)*np.exp(-a*x*x)"
   ]
  },
  {
   "cell_type": "code",
   "execution_count": 26,
   "id": "951856eb-3f1c-498f-bdb4-2dfb13c2f436",
   "metadata": {},
   "outputs": [],
   "source": [
    "import matplotlib.pyplot as plt\n",
    "\n",
    "def plotter(func, start, stop, num, **kwargs):\n",
    "    '''\n",
    "    This functions generates a plot of a function over an \n",
    "    arbitrary closed interval.  \n",
    "\n",
    "    Input:\n",
    "    ------\n",
    "        func: A function.\n",
    "        start: x values starting point .\n",
    "        stop: x values stop point.\n",
    "        num: number of data points \n",
    "    '''\n",
    "    x = np.linspace(start, stop, num)\n",
    "    y = f(x, **kwargs)\n",
    "\n",
    "    fig, ax = plt.subplots()\n",
    "    ax.plot(x, y, '-', label = 'a Gaussian wave packet')\n",
    "    ax.set_xlabel(r'$x$')\n",
    "    ax.set_ylabel(r'$f(x)$')\n",
    "    ax.legend()\n",
    "    ax.grid()\n",
    "    plt.show()"
   ]
  },
  {
   "cell_type": "code",
   "execution_count": 27,
   "id": "6403d1a6-b738-4af4-9c75-b393b73c1056",
   "metadata": {},
   "outputs": [
    {
     "data": {
      "image/png": "[encoded data removed]",
      "text/plain": [
       "<Figure size 640x480 with 1 Axes>"
      ]
     },
     "metadata": {},
     "output_type": "display_data"
    }
   ],
   "source": [
    "plotter(func = f, a = 0.1, b = 10, start = -10, stop = 10, num = 1000)"
   ]
  },
  {
   "cell_type": "markdown",
   "id": "f5bd9b98-6b8e-4701-83d3-16bdd0c2e329",
   "metadata": {},
   "source": [
    "## Part 2"
   ]
  },
  {
   "cell_type": "code",
   "execution_count": 28,
   "id": "5e278262-757b-43dc-9dc7-766742e804bb",
   "metadata": {},
   "outputs": [],
   "source": [
    "def fd(x, a=0.1, b=10):\n",
    "    '''\n",
    "    Returns the derivative of f\n",
    "    '''\n",
    "    return b*np.cos(b*x)*np.exp(-a*x*x) - 2*a*x*np.sin(b*x) * np.exp(-a*x*x)"
   ]
  },
  {
   "cell_type": "markdown",
   "id": "afe9b596-63ec-43c3-999c-a78eaed96ced",
   "metadata": {},
   "source": [
    "## Part 3"
   ]
  },
  {
   "cell_type": "code",
   "execution_count": 29,
   "id": "da73e32b-30ba-465c-bbff-f074d70704eb",
   "metadata": {},
   "outputs": [],
   "source": [
    "def forward_difference(func, x, h, **kwargs):\n",
    "    '''\n",
    "    \n",
    "    '''\n",
    "    return (func(x + h, **kwargs) - func(x, **kwargs)) / h"
   ]
  },
  {
   "cell_type": "code",
   "execution_count": 30,
   "id": "a2b9e18f-b1e3-43da-b168-be7b13ccc47b",
   "metadata": {},
   "outputs": [
    {
     "data": {
      "text/plain": [
       "-7.220096595246589"
      ]
     },
     "execution_count": 30,
     "metadata": {},
     "output_type": "execute_result"
    }
   ],
   "source": [
    "forward_difference(func = f, x = 1, h = 1e-2)"
   ]
  },
  {
   "cell_type": "code",
   "execution_count": 31,
   "id": "9bde4462-cef2-4200-b4c8-7dad8369a33d",
   "metadata": {},
   "outputs": [
    {
     "name": "stdout",
     "output_type": "stream",
     "text": [
      "0.27368643245679003\n"
     ]
    }
   ],
   "source": [
    "error = abs(fd(x = 1) - forward_difference(func = f, x = 1, h = 1e-2))\n",
    "print(error)"
   ]
  },
  {
   "cell_type": "markdown",
   "id": "8435a418-73ae-47c2-bfef-65c8365dce6a",
   "metadata": {},
   "source": [
    "## Part 4"
   ]
  },
  {
   "cell_type": "code",
   "execution_count": 32,
   "id": "4f135561-7cb7-4d0c-8371-f61de0ed747c",
   "metadata": {},
   "outputs": [],
   "source": [
    "def central_difference(func, x, h, **kwargs):\n",
    "    '''\n",
    "    \n",
    "    '''\n",
    "    return (func(x + h, **kwargs) - func(x - h, **kwargs)) / (2*h)"
   ]
  },
  {
   "cell_type": "code",
   "execution_count": 33,
   "id": "83b8ffa3-db54-4cfb-a61a-19f66e405259",
   "metadata": {},
   "outputs": [
    {
     "name": "stdout",
     "output_type": "stream",
     "text": [
      "0.012215278172568844\n"
     ]
    }
   ],
   "source": [
    "error = abs(fd(x = 1) - central_difference(func = f, x = 1, h = 1e-2))\n",
    "print(error)"
   ]
  },
  {
   "cell_type": "markdown",
   "id": "67ac8ec2-a8a8-4ab2-8574-5bf97a6954cc",
   "metadata": {},
   "source": [
    "## Part 5"
   ]
  },
  {
   "cell_type": "code",
   "execution_count": 34,
   "id": "83716553-2cf5-4780-a234-2b1d7bf6cb35",
   "metadata": {},
   "outputs": [
    {
     "data": {
      "image/png": "[encoded data removed]",
      "text/plain": [
       "<Figure size 640x480 with 1 Axes>"
      ]
     },
     "metadata": {},
     "output_type": "display_data"
    }
   ],
   "source": [
    "x = 1\n",
    "h = np.logspace(-16,0, 17) \n",
    "\n",
    "forward_diff = forward_difference(f, x, h)\n",
    "central_diff = central_difference(f, x, h)\n",
    "analytical = fd(x)\n",
    "\n",
    "forward_error = abs(forward_diff - analytical)\n",
    "central_error = abs(central_diff - analytical)\n",
    "\n",
    "fig, ax = plt.subplots()\n",
    "ax.plot(h, forward_error, '.-', label ='Forward difference')\n",
    "ax.plot(h, central_error, 'x-', label ='Central difference')\n",
    "ax.set_xlabel('h')\n",
    "ax.set_ylabel('Error')\n",
    "ax.set_xscale('log')\n",
    "ax.set_yscale('log')\n",
    "ax.legend()\n",
    "ax.grid()\n",
    "plt.show()"
   ]
  },
  {
   "cell_type": "markdown",
   "id": "1b1e5c65-46a1-4731-8959-be9d349ad0c1",
   "metadata": {},
   "source": [
    "# Exercise 3, Part II: FD with Classes"
   ]
  },
  {
   "cell_type": "markdown",
   "id": "e038171a-188c-4c47-894c-43915001fcf1",
   "metadata": {},
   "source": [
    "Intro written here"
   ]
  },
  {
   "cell_type": "code",
   "execution_count": 35,
   "id": "4bf0c0e0-8f83-4cfc-9696-0e20e3ade815",
   "metadata": {},
   "outputs": [],
   "source": [
    "class WavePacket:\n",
    "    '''\n",
    "    A class representation of a wave packet-function.\n",
    "    '''\n",
    "    \n",
    "    def __init__(self, a, b):\n",
    "        self.a = a\n",
    "        self.b = b\n",
    "        \n",
    "    def __call__(self, x):\n",
    "        return np.sin(self.b*x)*np.exp(-self.a*x*x)\n",
    "        \n",
    "    def plot(self, x_min=-10, x_max=10, dx=0.01):\n",
    "        '''\n",
    "        A simple plotting routine for plotting f(x) in some range.\n",
    "        '''\n",
    "        x = np.arange(x_min, x_max, dx)\n",
    "        y = self(x)\n",
    "        fig = plt.figure()\n",
    "        plt.plot(x, y)\n",
    "        plt.grid()\n",
    "\n",
    "    #--------------------------- Part 1 ---------------------------\n",
    "    def forward_difference(self, x, h):\n",
    "        '''\n",
    "    \n",
    "        '''\n",
    "        return (self(x + h) - self(x)) / h\n",
    "\n",
    "    def central_difference(self, x, h):\n",
    "        '''\n",
    "    \n",
    "        '''\n",
    "        return (self(x + h) - self(x - h)) / (2*h)\n",
    "    #--------------------------------------------------------------\n",
    "\n",
    "    #--------------------------- Part 2 ---------------------------\n",
    "    def error_plotter(self, x): \n",
    "        '''\n",
    "\n",
    "        '''\n",
    "\n",
    "        h = np.logspace(-16,0, 17) \n",
    "\n",
    "        forward_diff = self.forward_difference(x, h)\n",
    "        central_diff = self.central_difference(x, h)\n",
    "        analytical = self.b*np.cos(self.b*x)*np.exp(-self.a*x*x) - 2*self.a*x*np.sin(self.b*x) * np.exp(-self.a*x*x)\n",
    "        \n",
    "        forward_error = abs(forward_diff - analytical)\n",
    "        central_error = abs(central_diff - analytical)\n",
    "        \n",
    "        fig, ax = plt.subplots()\n",
    "        ax.scatter(h, forward_error, 'o', label ='Forward difference')\n",
    "        ax.scatter(h, central_error, 'x', label ='Central difference')\n",
    "        ax.set_xlabel('h')\n",
    "        ax.set_ylabel('Error')\n",
    "        ax.set_xscale('log')\n",
    "        ax.set_yscale('log')\n",
    "        ax.legend()\n",
    "        ax.grid()\n",
    "        plt.show()\n",
    "        #--------------------------------------------------------------"
   ]
  },
  {
   "cell_type": "markdown",
   "id": "5080b8e0-ae11-40ae-932b-0daf4c9e0ce0",
   "metadata": {},
   "source": [
    "## Part 1"
   ]
  },
  {
   "cell_type": "code",
   "execution_count": null,
   "id": "812c6e3c-a383-4f5e-83f7-8b930662f270",
   "metadata": {},
   "outputs": [],
   "source": []
  },
  {
   "cell_type": "markdown",
   "id": "d138f07d-b4a3-4573-876e-a7cdc7e15ac8",
   "metadata": {},
   "source": [
    "## Part 2"
   ]
  },
  {
   "cell_type": "code",
   "execution_count": null,
   "id": "f11cd4ec-dc4e-4d83-8152-d69e54d63e91",
   "metadata": {},
   "outputs": [],
   "source": []
  },
  {
   "cell_type": "markdown",
   "id": "15a1f83d-b139-4d94-8e17-951b250cb90a",
   "metadata": {},
   "source": [
    "# Exercise 4: Automatic for the people?"
   ]
  },
  {
   "cell_type": "markdown",
   "id": "303b575f-ac3c-4188-a3bf-1590b64619e2",
   "metadata": {},
   "source": [
    "Below is the code for the entire exercise in one kernel to avoid having several copies of the same thing. Which part of the code is written to which part of the exercise is marked with comments. Atfer the code kernel we will elaberate on each part.  "
   ]
  },
  {
   "cell_type": "code",
   "execution_count": 71,
   "id": "8802ee39-e662-45ce-8353-64c642b69266",
   "metadata": {},
   "outputs": [],
   "source": [
    "class duple:\n",
    "    '''\n",
    "    Class for automatic differentiation\n",
    "    top: function value\n",
    "    bottom: derivative of function\n",
    "    '''\n",
    "    \n",
    "    def __init__(self,top, bottom=0):\n",
    "        self.top = top\n",
    "        self.bottom = bottom\n",
    "\n",
    "    def __add__(self, d): # u+v, u’+v’\n",
    "        return duple(self.top + d.top, self.bottom + d.bottom )\n",
    "\n",
    "    #--------------------------- Part 1 ---------------------------\n",
    "    def __repr__(self):\n",
    "        return \"[\"+str(self.top)+\",\"+str(self.bottom)+\"]\"\n",
    "        \n",
    "    def __str__(self):\n",
    "        return \"[\"+str(self.top)+\",\"+str(self.bottom)+\"]\"\n",
    "    #--------------------------------------------------------------\n",
    "\n",
    "    #--------------------------- Part 2 ---------------------------\n",
    "    def __pos__(self):\n",
    "        return duple(+ self.top, + self.bottom)\n",
    "\n",
    "    def __neg__(self):\n",
    "        return duple(- self.top, - self.bottom)\n",
    "\n",
    "    def __sub__(self, d): \n",
    "        return duple(self.top - d.top, self.bottom - d.bottom)\n",
    "    #--------------------------------------------------------------\n",
    "\n",
    "   #--------------------------- Part 3 --------------------------- \n",
    "    def __mul__(self,d):\n",
    "        return duple(self.top * d.top, (self.bottom * d.top) + (self.top * d.bottom))\n",
    "\n",
    "    def __truediv__(self,d):\n",
    "        return duple(self.top / d.top, ((self.bottom * d.top) - (self.top * d.bottom)) / (d.top * d.top))\n",
    "    #--------------------------------------------------------------\n",
    "\n",
    "#------------------------------ Part 4 ----------------------------  \n",
    "class dfunction:\n",
    "    def __init__(self, f, df):\n",
    "        self.f = f\n",
    "        self.df = df\n",
    "    def __call__(self,d: duple): #chain rule sending in and returning duple\n",
    "        return duple(self.f(d.top), (self.df(d.top) * d.bottom))\n",
    "#------------------------------------------------------------------"
   ]
  },
  {
   "cell_type": "markdown",
   "id": "be40a355-5aea-4d43-ada5-4227a67c5fe4",
   "metadata": {},
   "source": [
    "## Part 1"
   ]
  },
  {
   "cell_type": "markdown",
   "id": "7d69d920-a487-4452-a19a-edebaa90674b",
   "metadata": {},
   "source": [
    "When creating a \"duple\" object e.g. $x = \\text{duple}(1,2)$ and try printing it, we get a bunch of nonsense. When printing $x$, it would be ideal to have a result that looked like this: $[1, 2]$. To achive this we have been asked to implement **\\_\\_repr\\_\\_** and **\\_\\_str\\_\\_**. Both these will give us a string representation of the object, but **\\_\\_str\\_\\_** is used to create a string that easly readable for the user while **\\_\\_repr\\_\\_** is meant to give more details that can be used in debugging (https://www.geeksforgeeks.org/python/str-vs-repr-in-python/)."
   ]
  },
  {
   "cell_type": "code",
   "execution_count": 53,
   "id": "c7fdcc33-e72a-49d8-8497-7fdb3c0e3a16",
   "metadata": {},
   "outputs": [
    {
     "name": "stdout",
     "output_type": "stream",
     "text": [
      "[1,2]\n"
     ]
    }
   ],
   "source": [
    "#Testing the code\n",
    "x = duple(1,2)\n",
    "print(x) #Should return [1,2]"
   ]
  },
  {
   "cell_type": "markdown",
   "id": "5c0da979-75c6-4f83-be05-404011bfa5b5",
   "metadata": {},
   "source": [
    "## Part 2"
   ]
  },
  {
   "cell_type": "markdown",
   "id": "d5683de7-a36c-42f0-bef1-795fad83d66f",
   "metadata": {},
   "source": [
    "Despite having implented the **\\_\\_add\\_\\_** dunder method we get an error when writing $+x$, and also when writing $-x$. To implement these unary operators we use **\\_\\_pos\\_\\_** and **\\_\\_neg\\_\\_**. The unary plus operator does not really do anything other than intecating a positive value. Not that in our code we have written $+ \\text{self.top}$ and $+ \\text{self.bottom}$ which is reduntent, but we think it adds to the readability of the code. The unary minus operatur **\\_\\_neg\\_\\_** on the other hand negates the values (https://www.geeksforgeeks.org/python/dunder-magic-methods-python/). Lastly, we were asked to implement the $-$ operator using the **\\_\\_sub\\_\\_** method. To implement this we subtrated the top values and the bottom values. "
   ]
  },
  {
   "cell_type": "code",
   "execution_count": 55,
   "id": "f7ed3296-26b3-406f-91a0-b9b63b51c424",
   "metadata": {},
   "outputs": [
    {
     "name": "stdout",
     "output_type": "stream",
     "text": [
      "[-2,-2]\n"
     ]
    }
   ],
   "source": [
    "#Testing the code \n",
    "x = duple(1,2)\n",
    "y = duple(3,4)\n",
    "print(x - y) #Should return [-2,-2] since 1-3=-2 and 2-4=-2"
   ]
  },
  {
   "cell_type": "markdown",
   "id": "c1a1b67c-22ec-4706-8f78-23f1e571592b",
   "metadata": {},
   "source": [
    "## Part 3"
   ]
  },
  {
   "cell_type": "markdown",
   "id": "dac82d23-948b-47fc-a70a-e9a380e1f2d9",
   "metadata": {},
   "source": [
    "Here we were asked to implement the $*$ operator and the $\\div$ operator using **\\_\\_mul\\_\\_** and **\\_\\_longdiv\\_\\_** respectively. For the multiplication operator we multiplied the \"top\" of the duple like normal and for the \"bottom\" part we used the product rule. Simerly, for the division operator we divted the \"top\" part like normal and used the quotient rule for the \"bottom\" part. "
   ]
  },
  {
   "cell_type": "code",
   "execution_count": 58,
   "id": "c2384ee3-c6be-4541-830d-2c76538e7bd3",
   "metadata": {},
   "outputs": [
    {
     "name": "stdout",
     "output_type": "stream",
     "text": [
      "auto diff =  [1.728,4.32]\n",
      "analytical =  1.728 4.319999999999999\n",
      "auto diff =  [0.45454545454545453,-0.20661157024793386]\n",
      "analytical =  0.45454545454545453 -0.20661157024793386\n",
      "auto diff =  [3.0944787419716917,4.297548854694511]\n",
      "analytical =  3.0944787419716917 4.297548854694511\n"
     ]
    }
   ],
   "source": [
    "#Testing the code\n",
    "\n",
    "#Here compare the auto diff and analytical solution. \n",
    "#These two should give the same answer. \n",
    "\n",
    "x = 1.2\n",
    "One = duple(1.,0.) #Derivative of a constant is zero\n",
    "X = duple(x,1) #Derivative of x with respect to x is 1\n",
    "\n",
    "print(\"auto diff = \",X*X*X)\n",
    "print(\"analytical = \",x*x*x, 3*x*x)\n",
    "\n",
    "print(\"auto diff = \", One/(One+X))\n",
    "print(\"analytical = \", 1/(1+x),-1/(1+x)**2)\n",
    "\n",
    "Exp = duple(np.exp(x),np.exp(x)) #Derivative of exp(x) is exp(x)\n",
    "Sin = duple(np.sin(x),np.cos(x)) #Derivative of sin(x) is cos(x)\n",
    "\n",
    "print(\"auto diff = \", Exp*Sin)\n",
    "print(\"analytical = \", np.exp(x)*np.sin(x), np.exp(x)*np.sin(x)+np.exp(x)*np.cos(x))"
   ]
  },
  {
   "cell_type": "markdown",
   "id": "c1a4b606-611f-46ef-b60c-204090d88a24",
   "metadata": {},
   "source": [
    "## Part 4"
   ]
  },
  {
   "cell_type": "markdown",
   "id": "51704823-9860-477e-850a-7f19fa99a35f",
   "metadata": {},
   "source": [
    "If we want to use automatic diffrentiation on composite function we need to add the class **dfunction**. When creating an instance of this class you have to send in a function $f$ and its derivative $fd$. Using the **\\_\\_call\\_\\_** method the class **dfunction** can be called like a funtion, and will then return a duple where the \"top\" value is $f\\left(g(x)\\right)$, where $f(x) =$ self.f and $g(x) =$ d.top,  and the bottom \"value\" is the result of the chain rule. (https://www.geeksforgeeks.org/python/__call__-in-python/)"
   ]
  },
  {
   "cell_type": "code",
   "execution_count": 65,
   "id": "13f25a1d-c290-4606-8714-9189132253cd",
   "metadata": {},
   "outputs": [
    {
     "name": "stdout",
     "output_type": "stream",
     "text": [
      "auto diff  [1.4632824673380311,0.7685247834990176]\n",
      "analytical  1.4632824673380311 0.7685247834990176\n"
     ]
    }
   ],
   "source": [
    "#Testing the code \n",
    "x = 1.2\n",
    "One = duple(1.,0.) #Derivative of a constant is zero\n",
    "X = duple(x,1) #Derivative of x with respect to x is 1\n",
    "\n",
    "def f(x):\n",
    "    return np.log(x)\n",
    "    \n",
    "def df(x):\n",
    "    return 1/x\n",
    "    \n",
    "Log = dfunction(f,df)\n",
    "Exp = dfunction(np.exp,np.exp)\n",
    "\n",
    "print(\"auto diff \", Log(One+Exp(X)))\n",
    "print(\"analytical \", np.log(1+np.exp(x)),np.exp(x)/(1+np.exp(x)))"
   ]
  },
  {
   "cell_type": "code",
   "execution_count": 70,
   "id": "73ab8001-c922-4501-a51e-45434e12a2c5",
   "metadata": {},
   "outputs": [
    {
     "name": "stdout",
     "output_type": "stream",
     "text": [
      "auto diff [-0.49225065733419177,-7.493783027703379]\n",
      "analytical  -0.49225065733419177 -7.493783027703379\n"
     ]
    }
   ],
   "source": [
    "#Testing the code on the wavepacket\n",
    "\n",
    "a=0.1\n",
    "b=10\n",
    "x=1\n",
    "\n",
    "A=duple(a) #second argument is default 0 i.e. a constant\n",
    "B=duple(b) #second argument is default 0 i.e. a constant\n",
    "X=duple(x,1)\n",
    "\n",
    "Sin=dfunction(np.sin,np.cos)\n",
    "\n",
    "print('auto diff', Sin(B*X)*Exp(-A*X*X))\n",
    "print('analytical ', np.sin(b*x)*np.exp(-a*x*x),b*np.cos(b*x)*np.exp(-a*x*x)\n",
    "-2*a*x*np.sin(b*x)*np.exp(-a*x*x))"
   ]
  },
  {
   "cell_type": "markdown",
   "id": "4ffbc8eb-33f4-4f99-8a56-d87240991c5e",
   "metadata": {},
   "source": [
    "## Part 5"
   ]
  },
  {
   "cell_type": "code",
   "execution_count": null,
   "id": "75884843-b4ec-4afd-b16c-4a09b1996be9",
   "metadata": {},
   "outputs": [],
   "source": []
  },
  {
   "cell_type": "markdown",
   "id": "ef93d855-f5e3-4b36-90eb-cc64a0abecc1",
   "metadata": {},
   "source": [
    "# Conclusion and Discussion"
   ]
  },
  {
   "cell_type": "code",
   "execution_count": null,
   "id": "89247c69-ea19-4ba8-8cf7-3303ce2608c8",
   "metadata": {},
   "outputs": [],
   "source": []
  },
  {
   "cell_type": "markdown",
   "id": "7f4e55fe-f8af-42b9-b0cc-411e49bdfe94",
   "metadata": {},
   "source": [
    "# Self-reflections"
   ]
  },
  {
   "cell_type": "code",
   "execution_count": null,
   "id": "679ae963-87e4-4c12-a440-096521a59c1b",
   "metadata": {},
   "outputs": [],
   "source": []
  },
  {
   "cell_type": "markdown",
   "id": "4e7363b3-089b-426c-82a9-71ec0e04adcf",
   "metadata": {},
   "source": [
    "# Bibliography"
   ]
  },
  {
   "cell_type": "code",
   "execution_count": null,
   "id": "7c63f752-7f5c-432e-b71a-150ecdc733b2",
   "metadata": {},
   "outputs": [],
   "source": []
  }
 ],
 "metadata": {
  "kernelspec": {
   "display_name": "Python 3 (ipykernel)",
   "language": "python",
   "name": "python3"
  },
  "language_info": {
   "codemirror_mode": {
    "name": "ipython",
    "version": 3
   },
   "file_extension": ".py",
   "mimetype": "text/x-python",
   "name": "python",
   "nbconvert_exporter": "python",
   "pygments_lexer": "ipython3",
   "version": "3.12.7"
  }
 },
 "nbformat": 4,
 "nbformat_minor": 5
}
